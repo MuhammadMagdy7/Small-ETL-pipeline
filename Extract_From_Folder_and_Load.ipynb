{
 "cells": [
  {
   "cell_type": "code",
   "execution_count": 1,
   "id": "1b7543e524707626",
   "metadata": {
    "ExecuteTime": {
     "end_time": "2025-02-09T12:05:29.422981Z",
     "start_time": "2025-02-09T12:05:28.118984Z"
    }
   },
   "outputs": [],
   "source": [
    "import urllib\n",
    "from sqlalchemy import create_engine\n",
    "import pandas as pd\n",
    "import os\n",
    "import pyodbc\n",
    "\n",
    "# تكوين سلسلة الاتصال لـ SQL Server\n",
    "params = urllib.parse.quote_plus(\n",
    "    f\"Driver={{{os.getenv('DB_DRIVER')}}};\"\n",
    "    f\"Server={os.getenv('DB_SERVER')};\"\n",
    "    f\"Database={os.getenv('DB_NAME')};\"\n",
    "    f\"UID={os.getenv('DB_USER')};\"\n",
    "    f\"PWD={os.getenv('DB_PASSWORD')};\"\n",
    "    f\"Encrypt=no;\"\n",
    "    f\"Connection Timeout=30;\"\n",
    ")\n",
    "\n",
    "# إنشاء محرك SQLAlchemy مع تعطيل وضع المستقبل\n",
    "engine = create_engine(f\"mssql+pyodbc:///?odbc_connect={params}\", future=True)\n",
    "\n",
    "\n"
   ]
  },
  {
   "cell_type": "code",
   "execution_count": 2,
   "id": "abd833929ddc9f99",
   "metadata": {
    "ExecuteTime": {
     "end_time": "2025-02-09T12:05:29.455546Z",
     "start_time": "2025-02-09T12:05:29.450461Z"
    }
   },
   "outputs": [
    {
     "data": {
      "text/plain": [
       "['ODBC Driver 18 for SQL Server']"
      ]
     },
     "execution_count": 2,
     "metadata": {},
     "output_type": "execute_result"
    }
   ],
   "source": [
    "pyodbc.drivers()"
   ]
  },
  {
   "cell_type": "code",
   "execution_count": 3,
   "id": "6b62708c3ab6c8ba",
   "metadata": {
    "ExecuteTime": {
     "end_time": "2025-02-09T12:05:29.654723Z",
     "start_time": "2025-02-09T12:05:29.648611Z"
    }
   },
   "outputs": [],
   "source": [
    "def Extract_df_From_Files(file):\n",
    "    try:\n",
    "        fileExtension = os.path.splitext(file)[1]\n",
    "        if fileExtension == \".csv\":\n",
    "            df = pd.read_csv(file)\n",
    "            return df\n",
    "        elif fileExtension == \".parquet\":\n",
    "            df = pd.read_parquet(file)\n",
    "            return df\n",
    "        else :\n",
    "            print(f\" {file} The extension must be .csv or .parquet\")\n",
    "            return\n",
    "    except Exception as e:\n",
    "        print(f\"Error is {e}\")\n",
    "\n",
    "def Create_table(df, name_table, engine):\n",
    "    try:\n",
    "        df.to_sql(name_table, engine, index=False, if_exists='replace')  # Use 'name' instead of 'file' to avoid \".csv\" in table name\n",
    "        print(f\"Table {name_table} created successfully\")\n",
    "    except Exception as e:\n",
    "        print(f\"Can't create table because: {e}\")\n"
   ]
  },
  {
   "cell_type": "code",
   "execution_count": 4,
   "id": "c77e07c8f524da85",
   "metadata": {
    "ExecuteTime": {
     "end_time": "2025-02-09T12:05:29.719738Z",
     "start_time": "2025-02-09T12:05:29.715245Z"
    }
   },
   "outputs": [
    {
     "name": "stdout",
     "output_type": "stream",
     "text": [
      "['products.csv', 'stocks.csv', 'order_items.parquet', 'orders.csv', 'staffs.csv', 'stores.csv', 'brands.csv', 'customers.csv', 'categories.csv', 'order_items.csv']\n"
     ]
    }
   ],
   "source": [
    "import os\n",
    "path = \"/home/elhossiny/Downloads/Python_ETL_Pipeline-20250204T145118Z-001/Python_ETL_Pipeline/DataSources\"\n",
    "files = os.listdir(path)\n",
    "print(files)"
   ]
  },
  {
   "cell_type": "code",
   "execution_count": null,
   "id": "a36eb6608f77f1b9",
   "metadata": {
    "ExecuteTime": {
     "start_time": "2025-02-09T12:05:29.878592Z"
    },
    "jupyter": {
     "is_executing": true
    }
   },
   "outputs": [
    {
     "name": "stdout",
     "output_type": "stream",
     "text": [
      "------------------------------------\n",
      "(334, 6) \n",
      " products Engine(mssql+pyodbc:///?odbc_connect=Driver%3D%7BODBC+Driver+18+for+SQL+Server%7D%3BServer%3Dlocalhost%2C1433%3BDatabase%3DE_commerce%3BUID%3Dsa%3BPWD%3DSTRONG123password%3BEncrypt%3Dno%3BConnection+Timeout%3D30%3B)\n",
      "Can't create table because: (pyodbc.OperationalError) ('HYT00', '[HYT00] [Microsoft][ODBC Driver 18 for SQL Server]Login timeout expired (0) (SQLDriverConnect)')\n",
      "(Background on this error at: https://sqlalche.me/e/20/e3q8)\n",
      "Done\n",
      "------------------------------------\n",
      "(939, 3) \n",
      " stocks Engine(mssql+pyodbc:///?odbc_connect=Driver%3D%7BODBC+Driver+18+for+SQL+Server%7D%3BServer%3Dlocalhost%2C1433%3BDatabase%3DE_commerce%3BUID%3Dsa%3BPWD%3DSTRONG123password%3BEncrypt%3Dno%3BConnection+Timeout%3D30%3B)\n",
      "Can't create table because: (pyodbc.OperationalError) ('HYT00', '[HYT00] [Microsoft][ODBC Driver 18 for SQL Server]Login timeout expired (0) (SQLDriverConnect)')\n",
      "(Background on this error at: https://sqlalche.me/e/20/e3q8)\n",
      "Done\n",
      "------------------------------------\n",
      "(4764, 6) \n",
      " order_items Engine(mssql+pyodbc:///?odbc_connect=Driver%3D%7BODBC+Driver+18+for+SQL+Server%7D%3BServer%3Dlocalhost%2C1433%3BDatabase%3DE_commerce%3BUID%3Dsa%3BPWD%3DSTRONG123password%3BEncrypt%3Dno%3BConnection+Timeout%3D30%3B)\n",
      "Can't create table because: (pyodbc.OperationalError) ('HYT00', '[HYT00] [Microsoft][ODBC Driver 18 for SQL Server]Login timeout expired (0) (SQLDriverConnect)')\n",
      "(Background on this error at: https://sqlalche.me/e/20/e3q8)\n",
      "Done\n",
      "------------------------------------\n",
      "(1615, 8) \n",
      " orders Engine(mssql+pyodbc:///?odbc_connect=Driver%3D%7BODBC+Driver+18+for+SQL+Server%7D%3BServer%3Dlocalhost%2C1433%3BDatabase%3DE_commerce%3BUID%3Dsa%3BPWD%3DSTRONG123password%3BEncrypt%3Dno%3BConnection+Timeout%3D30%3B)\n"
     ]
    }
   ],
   "source": [
    "for file in files:\n",
    "    name = os.path.splitext(file)[0]\n",
    "    df = Extract_df_From_Files(f\"{path}/{file}\")\n",
    "    print(\"------------------------------------\")\n",
    "\n",
    "    if isinstance(df, pd.DataFrame):\n",
    "        # Use the SQLAlchemy engine here\n",
    "        print(df.shape,'\\n', name, engine)\n",
    "        Create_table(df, name, engine)\n",
    "        print(\"Done\")"
   ]
  },
  {
   "cell_type": "code",
   "execution_count": 5,
   "id": "8d8730f8",
   "metadata": {},
   "outputs": [
    {
     "name": "stdout",
     "output_type": "stream",
     "text": [
      "   order_id item_id  product_id  quantity  list_price  discount\n",
      "0         1       1          20         1      599.99      0.20\n",
      "1         1       2           8         2     1799.99      0.07\n",
      "2         1       3          10         2     1549.00      0.05\n",
      "3         1       4          16         2      599.99      0.05\n",
      "4         1       5           4         1     2899.99      0.20\n",
      "5         2       1          20         1      599.99      0.07\n",
      "6         2       2          16         2      599.99      0.05\n",
      "7         3       1           3         1      999.99      0.05\n",
      "8         3       2          20         1      599.99      0.05\n",
      "9         4       1           2         2      749.99      0.10\n"
     ]
    }
   ],
   "source": [
    "query = \"\"\"\n",
    "SELECT TOP(10) * FROM order_items\n",
    "\"\"\"\n",
    "df_sql = pd.read_sql(query, engine)\n",
    "print(df_sql)"
   ]
  },
  {
   "cell_type": "code",
   "execution_count": null,
   "id": "b0a1cc8662939aa9",
   "metadata": {
    "ExecuteTime": {
     "end_time": "2025-02-06T14:13:08.453298053Z",
     "start_time": "2025-02-05T09:36:30.418492Z"
    }
   },
   "outputs": [],
   "source": []
  },
  {
   "cell_type": "code",
   "execution_count": 35,
   "id": "38a30086eb8b43ed",
   "metadata": {
    "ExecuteTime": {
     "end_time": "2025-02-06T14:13:08.453979658Z",
     "start_time": "2025-02-05T22:43:39.853556Z"
    }
   },
   "outputs": [],
   "source": []
  }
 ],
 "metadata": {
  "kernelspec": {
   "display_name": "e-data-engineering",
   "language": "python",
   "name": "python3"
  },
  "language_info": {
   "codemirror_mode": {
    "name": "ipython",
    "version": 3
   },
   "file_extension": ".py",
   "mimetype": "text/x-python",
   "name": "python",
   "nbconvert_exporter": "python",
   "pygments_lexer": "ipython3",
   "version": "3.11.11"
  }
 },
 "nbformat": 5,
 "nbformat_minor": 9
}
